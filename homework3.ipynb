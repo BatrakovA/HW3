{
 "cells": [
  {
   "cell_type": "markdown",
   "metadata": {},
   "source": [
    "Задание 1"
   ]
  },
  {
   "cell_type": "code",
   "execution_count": 5,
   "metadata": {},
   "outputs": [
    {
     "name": "stdout",
     "output_type": "stream",
     "text": [
      "{98, 35, 213, 54, 119, 15}\n"
     ]
    }
   ],
   "source": [
    "ids = {'user1': [213, 213, 213, 15, 213], \n",
    "       'user2': [54, 54, 119, 119, 119], \n",
    "       'user3': [213, 98, 98, 35]}\n",
    "\n",
    "geo_set = set()\n",
    "\n",
    "for geo in ids.values():\n",
    "    geo_set = geo_set.union(set(geo))\n",
    "\n",
    "print(geo_set)"
   ]
  },
  {
   "cell_type": "markdown",
   "metadata": {},
   "source": [
    "Задание 2"
   ]
  },
  {
   "cell_type": "code",
   "execution_count": 1,
   "metadata": {},
   "outputs": [
    {
     "name": "stdout",
     "output_type": "stream",
     "text": [
      "Поисковых запросов, содержащих 2 слов(а/о): 42.86\n",
      "Поисковых запросов, содержащих 3 слов(а/о): 57.14\n"
     ]
    }
   ],
   "source": [
    "queries = [\n",
    "'смотреть сериалы онлайн',\n",
    "'новости спорта',\n",
    "'афиша кино',\n",
    "'курс доллара',\n",
    "'сериалы этим летом',\n",
    "'курс по питону',\n",
    "'сериалы про спорт'\n",
    "]\n",
    "\n",
    "spisok = []\n",
    "\n",
    "for item in queries:\n",
    "    spisok.append(len(item.split()))\n",
    "\n",
    "i = 1\n",
    "\n",
    "while i <= max(spisok):\n",
    "    if spisok.count(i) >0:\n",
    "        print('Поисковых запросов, содержащих', i ,'слов(а/о):', round(spisok.count(i)*100/len(spisok),2))\n",
    "    i += 1"
   ]
  },
  {
   "cell_type": "markdown",
   "metadata": {},
   "source": [
    "Задание 3"
   ]
  },
  {
   "cell_type": "code",
   "execution_count": 3,
   "metadata": {},
   "outputs": [
    {
     "data": {
      "text/plain": [
       "{'vk': {'ROI': 5.1, 'cost': 98, 'revenue': 103},\n",
       " 'yandex': {'ROI': 16.99, 'cost': 153, 'revenue': 179},\n",
       " 'facebook': {'ROI': -6.36, 'cost': 110, 'revenue': 103},\n",
       " 'adwords': {'ROI': 2.94, 'cost': 34, 'revenue': 35},\n",
       " 'twitter': {'ROI': -54.17, 'cost': 24, 'revenue': 11}}"
      ]
     },
     "execution_count": 3,
     "metadata": {},
     "output_type": "execute_result"
    }
   ],
   "source": [
    "results = {\n",
    "'vk': {'revenue': 103, 'cost': 98},\n",
    "'yandex': {'revenue': 179, 'cost': 153},\n",
    "'facebook': {'revenue': 103, 'cost': 110},\n",
    "'adwords': {'revenue': 35, 'cost': 34},\n",
    "'twitter': {'revenue': 11, 'cost': 24},\n",
    "}\n",
    "\n",
    "results_roi = {}\n",
    "\n",
    "for row,values in results.items():\n",
    "    results_roi.update({row:{'ROI':round((values['revenue'] / values['cost'] - 1) * 100, 2), 'cost':values['cost'], 'revenue':values['revenue']}})\n",
    "\n",
    "results_roi\n"
   ]
  },
  {
   "cell_type": "markdown",
   "metadata": {},
   "source": [
    "Задание 4"
   ]
  },
  {
   "cell_type": "code",
   "execution_count": 4,
   "metadata": {},
   "outputs": [
    {
     "name": "stdout",
     "output_type": "stream",
     "text": [
      "Максимальный объем продаж на рекламном канале: vk\n"
     ]
    }
   ],
   "source": [
    "stats = {'facebook': 55, 'yandex': 115, 'vk': 120, 'google': 99, 'email': 42, 'ok': 98}\n",
    "\n",
    "for channel, amount in stats.items():\n",
    "     if amount == max(list(stats.values())):\n",
    "         print('Максимальный объем продаж на рекламном канале:',channel)"
   ]
  },
  {
   "cell_type": "markdown",
   "metadata": {},
   "source": [
    "Задание 5"
   ]
  },
  {
   "cell_type": "code",
   "execution_count": 34,
   "metadata": {},
   "outputs": [
    {
     "name": "stdout",
     "output_type": "stream",
     "text": [
      "{'2018-01-01': {'yandex': {'cpc': 100}}}\n"
     ]
    }
   ],
   "source": [
    "my_list = ['2018-01-01', 'yandex', 'cpc', 100]\n",
    "\n",
    "long = len(my_list) - 1\n",
    "\n",
    "my_dict = {}\n",
    "\n",
    "my_dict[my_list[long - 1]] = my_list[long]\n",
    "\n",
    "long = long - 1\n",
    "\n",
    "while long > 0:\n",
    "    long = long - 1\n",
    "    my_dict2=my_dict.copy()\n",
    "    my_dict.clear()\n",
    "    my_dict[my_list[long]] = my_dict2\n",
    "print(my_dict)\n"
   ]
  },
  {
   "cell_type": "code",
   "execution_count": 33,
   "metadata": {},
   "outputs": [
    {
     "name": "stdout",
     "output_type": "stream",
     "text": [
      "{'a': {'b': {'c': {'d': {'e': 'f'}}}}}\n"
     ]
    }
   ],
   "source": [
    "my_list = ['a', 'b', 'c', 'd', 'e', 'f']\n",
    "\n",
    "long = len(my_list) - 1\n",
    "\n",
    "my_dict = {}\n",
    "\n",
    "my_dict[my_list[long - 1]] = my_list[long]\n",
    "\n",
    "long = long - 1\n",
    "\n",
    "while long > 0:\n",
    "    long = long - 1\n",
    "    my_dict2 = my_dict.copy()\n",
    "    my_dict.clear()\n",
    "    my_dict[my_list[long]] = my_dict2\n",
    "    \n",
    "print(my_dict)"
   ]
  },
  {
   "cell_type": "markdown",
   "metadata": {},
   "source": [
    "Задание 6"
   ]
  },
  {
   "cell_type": "code",
   "execution_count": 31,
   "metadata": {},
   "outputs": [
    {
     "name": "stdout",
     "output_type": "stream",
     "text": [
      "Введите количество порций: \n",
      "3\n",
      "Сыр: 210 гр\n",
      "Томаты: 6 шт\n",
      "Огурцы: 60 гр\n",
      "Маслины: 30 гр\n",
      "Оливковое масло: 60 мл\n",
      "Салат: 30 гр\n",
      "Перец: 60 гр\n",
      "Колбаса: 90 гр\n",
      "Бекон: 90 гр\n",
      "Оливки: 30 гр\n",
      "Томаты: 60 гр\n",
      "Тесто: 300 гр\n",
      "Лимон: 3 шт\n",
      "Вода: 600 мл\n",
      "Сахар: 30 гр\n",
      "Лайм: 60 гр\n"
     ]
    }
   ],
   "source": [
    "cook_book = {\n",
    "'салат': [\n",
    "{'ingridient_name': 'сыр', 'quantity': 50, 'measure': 'гр'},\n",
    "{'ingridient_name': 'томаты', 'quantity': 2, 'measure': 'шт'},\n",
    "{'ingridient_name': 'огурцы', 'quantity': 20, 'measure': 'гр'},\n",
    "{'ingridient_name': 'маслины', 'quantity': 10, 'measure': 'гр'},\n",
    "{'ingridient_name': 'оливковое масло', 'quantity': 20, 'measure': 'мл'},\n",
    "{'ingridient_name': 'салат', 'quantity': 10, 'measure': 'гр'},\n",
    "{'ingridient_name': 'перец', 'quantity': 20, 'measure': 'гр'}\n",
    "],\n",
    "'пицца': [\n",
    "{'ingridient_name': 'сыр', 'quantity': 20, 'measure': 'гр'},\n",
    "{'ingridient_name': 'колбаса', 'quantity': 30, 'measure': 'гр'},\n",
    "{'ingridient_name': 'бекон', 'quantity': 30, 'measure': 'гр'},\n",
    "{'ingridient_name': 'оливки', 'quantity': 10, 'measure': 'гр'},\n",
    "{'ingridient_name': 'томаты', 'quantity': 20, 'measure': 'гр'},\n",
    "{'ingridient_name': 'тесто', 'quantity': 100, 'measure': 'гр'},\n",
    "],\n",
    "'лимонад': [\n",
    "{'ingridient_name': 'лимон', 'quantity': 1, 'measure': 'шт'},\n",
    "{'ingridient_name': 'вода', 'quantity': 200, 'measure': 'мл'},\n",
    "{'ingridient_name': 'сахар', 'quantity': 10, 'measure': 'гр'},\n",
    "{'ingridient_name': 'лайм', 'quantity': 20, 'measure': 'гр'},\n",
    "]\n",
    "}\n",
    "\n",
    "my_dict={}\n",
    "\n",
    "person=int(input('Введите количество порций: \\n'))\n",
    "\n",
    "for item in cook_book.items():\n",
    "    for ingridient in item[1]:\n",
    "        ingridient_measure = ingridient['ingridient_name'].replace(' ','_') + ' ' + ingridient['measure']\n",
    "        quantity = ingridient['quantity']\n",
    "        if ingridient_measure in my_dict:\n",
    "            my_dict[ingridient_measure] += quantity * person\n",
    "        else:\n",
    "            my_dict.setdefault(ingridient_measure, quantity * person)\n",
    "            \n",
    "for ing, values in my_dict.items():\n",
    "    name = ing.split()\n",
    "    print(name[0].capitalize().replace('_',' ') + ':', values, name[1])\n",
    "\n",
    "\n",
    "# Сыр: 210 гр\n",
    "# Томаты: 6 шт\n",
    "# Огурцы: 60 гр\n",
    "# Маслины: 30 гр\n",
    "# Оливковое Масло: 60 мл\n",
    "# Салат: 30 гр\n",
    "# Перец: 60 гр\n",
    "# Колбаса: 90 гр\n",
    "# Бекон: 90 гр\n",
    "# Оливки: 30 гр\n",
    "# Томаты: 60 гр\n",
    "# Тесто: 300 гр\n",
    "# Лимон: 3 шт\n",
    "# Вода: 600 мл\n",
    "# Сахар: 30 гр\n",
    "# Лайм: 60 гр"
   ]
  }
 ],
 "metadata": {
  "kernelspec": {
   "display_name": "Python 3",
   "language": "python",
   "name": "python3"
  },
  "language_info": {
   "codemirror_mode": {
    "name": "ipython",
    "version": 3
   },
   "file_extension": ".py",
   "mimetype": "text/x-python",
   "name": "python",
   "nbconvert_exporter": "python",
   "pygments_lexer": "ipython3",
   "version": "3.8.5"
  }
 },
 "nbformat": 4,
 "nbformat_minor": 4
}
